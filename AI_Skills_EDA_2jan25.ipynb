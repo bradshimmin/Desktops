{
  "nbformat": 4,
  "nbformat_minor": 0,
  "metadata": {
    "colab": {
      "provenance": [],
      "authorship_tag": "ABX9TyOEkgQEPymJljOlOK4qPdbJ",
      "include_colab_link": true
    },
    "kernelspec": {
      "name": "python3",
      "display_name": "Python 3"
    },
    "language_info": {
      "name": "python"
    }
  },
  "cells": [
    {
      "cell_type": "markdown",
      "metadata": {
        "id": "view-in-github",
        "colab_type": "text"
      },
      "source": [
        "<a href=\"https://colab.research.google.com/github/bradshimmin/Desktops/blob/main/AI_Skills_EDA_2jan25.ipynb\" target=\"_parent\"><img src=\"https://colab.research.google.com/assets/colab-badge.svg\" alt=\"Open In Colab\"/></a>"
      ]
    },
    {
      "cell_type": "code",
      "execution_count": null,
      "metadata": {
        "colab": {
          "base_uri": "https://localhost:8080/"
        },
        "id": "2udxeGmSuTqN",
        "outputId": "5bfef5ff-7e49-446b-d782-93690f4f2889"
      },
      "outputs": [
        {
          "output_type": "stream",
          "name": "stdout",
          "text": [
            "all done\n"
          ]
        }
      ],
      "source": [
        "# Imports\n",
        "import pandas as pd\n",
        "import numpy as np\n",
        "import matplotlib.pyplot as plt\n",
        "import plotly.express as px\n",
        "import seaborn as sns\n",
        "import os\n",
        "\n",
        "# Setup\n",
        "# Show all columns\n",
        "pd.set_option('display.max_columns', None)\n",
        "# Show all rows\n",
        "pd.set_option('display.max_rows', 100)\n",
        "\n",
        "print(\"all done\")"
      ]
    },
    {
      "cell_type": "code",
      "source": [
        "# Mount Google Drive\n",
        "from google.colab import drive\n",
        "drive.mount('/content/gdrive')"
      ],
      "metadata": {
        "colab": {
          "base_uri": "https://localhost:8080/"
        },
        "id": "OQTcv7uEuX8S",
        "outputId": "8003e206-76c9-48c1-8b1e-f477540bd7fc"
      },
      "execution_count": null,
      "outputs": [
        {
          "output_type": "stream",
          "name": "stdout",
          "text": [
            "Mounted at /content/gdrive\n"
          ]
        }
      ]
    },
    {
      "cell_type": "code",
      "source": [
        "df_4q24 = pd.read_pickle('/content/gdrive/MyDrive/Colab Notebooks/Datasets/ai_skills_tracker/ai_skills_2H24/ai_skills_full_4Q24_removed_duplicates.pkl')\n",
        "print(\"all done\")"
      ],
      "metadata": {
        "colab": {
          "base_uri": "https://localhost:8080/"
        },
        "id": "5Tn4TqmIuYZX",
        "outputId": "761267e6-8d1b-421d-82bf-042d2eefc3b1"
      },
      "execution_count": null,
      "outputs": [
        {
          "output_type": "stream",
          "name": "stdout",
          "text": [
            "all done\n"
          ]
        }
      ]
    },
    {
      "cell_type": "code",
      "source": [
        "df_4q24.shape\n"
      ],
      "metadata": {
        "colab": {
          "base_uri": "https://localhost:8080/"
        },
        "id": "W1TU4m3Cn71V",
        "outputId": "26de8ff9-e828-45d4-d568-4fb3e9032128"
      },
      "execution_count": null,
      "outputs": [
        {
          "output_type": "execute_result",
          "data": {
            "text/plain": [
              "(237890, 30)"
            ]
          },
          "metadata": {},
          "execution_count": 4
        }
      ]
    },
    {
      "cell_type": "code",
      "source": [
        "df_4q24.info()"
      ],
      "metadata": {
        "colab": {
          "base_uri": "https://localhost:8080/"
        },
        "id": "UNw1YuVMMqyA",
        "outputId": "256d6673-a826-49e6-a0c3-bf2175f3d7b2"
      },
      "execution_count": null,
      "outputs": [
        {
          "output_type": "stream",
          "name": "stdout",
          "text": [
            "<class 'pandas.core.frame.DataFrame'>\n",
            "Index: 237890 entries, 0 to 238299\n",
            "Data columns (total 30 columns):\n",
            " #   Column                    Non-Null Count   Dtype  \n",
            "---  ------                    --------------   -----  \n",
            " 0   RecordID                  237890 non-null  int64  \n",
            " 1   Job title                 237890 non-null  object \n",
            " 2   Full job description      237890 non-null  object \n",
            " 3   Date collected            193142 non-null  object \n",
            " 4   Date posted               237890 non-null  object \n",
            " 5   Week                      237890 non-null  int64  \n",
            " 6   Year                      237890 non-null  int64  \n",
            " 7   Month                     237890 non-null  int64  \n",
            " 8   Quarter                   237890 non-null  object \n",
            " 9   Hiring entity             237890 non-null  object \n",
            " 10  Entity size               205691 non-null  object \n",
            " 11  Home office hybrid work   237890 non-null  object \n",
            " 12  Full or part time status  230282 non-null  object \n",
            " 13  Number of applicants      93282 non-null   float64\n",
            " 14  Longitude                 237890 non-null  float64\n",
            " 15  Latitude                  237890 non-null  float64\n",
            " 16  City                      229082 non-null  object \n",
            " 17  Territory                 237804 non-null  object \n",
            " 18  Region                    237811 non-null  object \n",
            " 19  Experience level          226497 non-null  object \n",
            " 20  Education level           200011 non-null  object \n",
            " 21  Salary start              142043 non-null  float64\n",
            " 22  Salary end                141281 non-null  float64\n",
            " 23  Main industry             220923 non-null  object \n",
            " 24  Job title category        237890 non-null  object \n",
            " 25  AI technologies           237890 non-null  object \n",
            " 26  AI skills                 237890 non-null  object \n",
            " 27  Source name               237890 non-null  object \n",
            " 28  Source URL                237890 non-null  object \n",
            " 29  File Date                 237890 non-null  object \n",
            "dtypes: float64(5), int64(4), object(21)\n",
            "memory usage: 56.3+ MB\n"
          ]
        }
      ]
    },
    {
      "cell_type": "code",
      "source": [
        "# prompt: Show me the first and last \"Date posted\" dates in df_3q24. Please first convert \"Date posted\" to timeseries, please\n",
        "#\n",
        "df_4q24['Date posted'] = pd.to_datetime(df_4q24['Date posted'])\n",
        "print(f\"First Date posted: {df_4q24['Date posted'].min()}\")\n",
        "print(f\"Last Date posted: {df_4q24['Date posted'].max()}\")\n"
      ],
      "metadata": {
        "colab": {
          "base_uri": "https://localhost:8080/"
        },
        "id": "hAUwru8TTwwG",
        "outputId": "0dadb7c1-0103-400c-e431-d6b7d7e479a9"
      },
      "execution_count": null,
      "outputs": [
        {
          "output_type": "stream",
          "name": "stdout",
          "text": [
            "First Date posted: 2022-01-01 00:00:00\n",
            "Last Date posted: 2024-12-22 00:00:00\n"
          ]
        }
      ]
    },
    {
      "cell_type": "code",
      "source": [
        "# Check job count by quarter\n",
        "\n",
        "df_4q24['Quarter'] = df_4q24['Date posted'].dt.to_period('Q')\n",
        "df_4q24['Quarter'].value_counts()\n"
      ],
      "metadata": {
        "colab": {
          "base_uri": "https://localhost:8080/",
          "height": 492
        },
        "id": "oLL8eBx5xDTX",
        "outputId": "146fbc56-71d5-420a-9ee8-87987363b655"
      },
      "execution_count": null,
      "outputs": [
        {
          "output_type": "execute_result",
          "data": {
            "text/plain": [
              "Quarter\n",
              "2022Q3    26794\n",
              "2023Q3    26084\n",
              "2022Q4    25827\n",
              "2023Q1    24632\n",
              "2023Q4    23199\n",
              "2024Q1    21549\n",
              "2023Q2    19366\n",
              "2024Q3    18876\n",
              "2024Q2    18579\n",
              "2022Q2    15467\n",
              "2024Q4    13497\n",
              "2022Q1     4020\n",
              "Freq: Q-DEC, Name: count, dtype: int64"
            ],
            "text/html": [
              "<div>\n",
              "<style scoped>\n",
              "    .dataframe tbody tr th:only-of-type {\n",
              "        vertical-align: middle;\n",
              "    }\n",
              "\n",
              "    .dataframe tbody tr th {\n",
              "        vertical-align: top;\n",
              "    }\n",
              "\n",
              "    .dataframe thead th {\n",
              "        text-align: right;\n",
              "    }\n",
              "</style>\n",
              "<table border=\"1\" class=\"dataframe\">\n",
              "  <thead>\n",
              "    <tr style=\"text-align: right;\">\n",
              "      <th></th>\n",
              "      <th>count</th>\n",
              "    </tr>\n",
              "    <tr>\n",
              "      <th>Quarter</th>\n",
              "      <th></th>\n",
              "    </tr>\n",
              "  </thead>\n",
              "  <tbody>\n",
              "    <tr>\n",
              "      <th>2022Q3</th>\n",
              "      <td>26794</td>\n",
              "    </tr>\n",
              "    <tr>\n",
              "      <th>2023Q3</th>\n",
              "      <td>26084</td>\n",
              "    </tr>\n",
              "    <tr>\n",
              "      <th>2022Q4</th>\n",
              "      <td>25827</td>\n",
              "    </tr>\n",
              "    <tr>\n",
              "      <th>2023Q1</th>\n",
              "      <td>24632</td>\n",
              "    </tr>\n",
              "    <tr>\n",
              "      <th>2023Q4</th>\n",
              "      <td>23199</td>\n",
              "    </tr>\n",
              "    <tr>\n",
              "      <th>2024Q1</th>\n",
              "      <td>21549</td>\n",
              "    </tr>\n",
              "    <tr>\n",
              "      <th>2023Q2</th>\n",
              "      <td>19366</td>\n",
              "    </tr>\n",
              "    <tr>\n",
              "      <th>2024Q3</th>\n",
              "      <td>18876</td>\n",
              "    </tr>\n",
              "    <tr>\n",
              "      <th>2024Q2</th>\n",
              "      <td>18579</td>\n",
              "    </tr>\n",
              "    <tr>\n",
              "      <th>2022Q2</th>\n",
              "      <td>15467</td>\n",
              "    </tr>\n",
              "    <tr>\n",
              "      <th>2024Q4</th>\n",
              "      <td>13497</td>\n",
              "    </tr>\n",
              "    <tr>\n",
              "      <th>2022Q1</th>\n",
              "      <td>4020</td>\n",
              "    </tr>\n",
              "  </tbody>\n",
              "</table>\n",
              "</div><br><label><b>dtype:</b> int64</label>"
            ]
          },
          "metadata": {},
          "execution_count": 7
        }
      ]
    },
    {
      "cell_type": "code",
      "source": [
        "# we'll work with 3q24\n",
        "df = df_4q24"
      ],
      "metadata": {
        "id": "Wm9p7bT70DmN"
      },
      "execution_count": null,
      "outputs": []
    },
    {
      "cell_type": "code",
      "source": [
        "# Create a filtured DF using keywords\n",
        "\n",
        "keywords = [\n",
        "    \"AutoGen\",\n",
        "    \"LangGraph\",\n",
        "    \"CrewAI\",\n",
        "    \"LangChain\",\n",
        "    \"Semantic Kernel\",\n",
        "    \"MetaGPT\",\n",
        "    \"Camel\",\n",
        "    \"OpenAGI\",\n",
        "    \"Flowise\",\n",
        "    \"AgentGPT\",\n",
        "    \"LlamaIndex\",\n",
        "    \"Llama-Agents\",\n",
        "    \"haystack\",\n",
        "    \"griptape\",\n",
        "    \"AutoGPT\",\n",
        "    \"Swarm\",\n",
        "    \"Magentic\",\n",
        "    \"AgentIM\",\n",
        "    \"AgentEnv\",\n",
        "    \"PhiData\",\n",
        "]\n",
        "\n",
        "def contains_keywords(text):\n",
        "  \"\"\"Checks if the text contains any of the keywords.\"\"\"\n",
        "  if isinstance(text, str):\n",
        "    for keyword in keywords:\n",
        "      if keyword.lower() in text:\n",
        "        return True\n",
        "  return False\n",
        "\n",
        "\n",
        "df_filtered = df[df[\"Full job description\"].apply(contains_keywords)]\n",
        "len(df_filtered) / len(df) * 100\n",
        "\n",
        "monthly_counts = df_filtered.groupby(df_filtered['Date posted'].dt.to_period('Q')).size()\n",
        "\n",
        "monthly_counts"
      ],
      "metadata": {
        "colab": {
          "base_uri": "https://localhost:8080/",
          "height": 492
        },
        "id": "m7MR7WoKkZ-a",
        "outputId": "5e6e5bf3-1177-4acc-9dd6-e711525fb63e"
      },
      "execution_count": null,
      "outputs": [
        {
          "output_type": "execute_result",
          "data": {
            "text/plain": [
              "Date posted\n",
              "2022Q1     4\n",
              "2022Q2    26\n",
              "2022Q3    14\n",
              "2022Q4    13\n",
              "2023Q1    14\n",
              "2023Q2    10\n",
              "2023Q3    41\n",
              "2023Q4    41\n",
              "2024Q1    36\n",
              "2024Q2    27\n",
              "2024Q3    34\n",
              "2024Q4    32\n",
              "Freq: Q-DEC, dtype: int64"
            ],
            "text/html": [
              "<div>\n",
              "<style scoped>\n",
              "    .dataframe tbody tr th:only-of-type {\n",
              "        vertical-align: middle;\n",
              "    }\n",
              "\n",
              "    .dataframe tbody tr th {\n",
              "        vertical-align: top;\n",
              "    }\n",
              "\n",
              "    .dataframe thead th {\n",
              "        text-align: right;\n",
              "    }\n",
              "</style>\n",
              "<table border=\"1\" class=\"dataframe\">\n",
              "  <thead>\n",
              "    <tr style=\"text-align: right;\">\n",
              "      <th></th>\n",
              "      <th>0</th>\n",
              "    </tr>\n",
              "    <tr>\n",
              "      <th>Date posted</th>\n",
              "      <th></th>\n",
              "    </tr>\n",
              "  </thead>\n",
              "  <tbody>\n",
              "    <tr>\n",
              "      <th>2022Q1</th>\n",
              "      <td>4</td>\n",
              "    </tr>\n",
              "    <tr>\n",
              "      <th>2022Q2</th>\n",
              "      <td>26</td>\n",
              "    </tr>\n",
              "    <tr>\n",
              "      <th>2022Q3</th>\n",
              "      <td>14</td>\n",
              "    </tr>\n",
              "    <tr>\n",
              "      <th>2022Q4</th>\n",
              "      <td>13</td>\n",
              "    </tr>\n",
              "    <tr>\n",
              "      <th>2023Q1</th>\n",
              "      <td>14</td>\n",
              "    </tr>\n",
              "    <tr>\n",
              "      <th>2023Q2</th>\n",
              "      <td>10</td>\n",
              "    </tr>\n",
              "    <tr>\n",
              "      <th>2023Q3</th>\n",
              "      <td>41</td>\n",
              "    </tr>\n",
              "    <tr>\n",
              "      <th>2023Q4</th>\n",
              "      <td>41</td>\n",
              "    </tr>\n",
              "    <tr>\n",
              "      <th>2024Q1</th>\n",
              "      <td>36</td>\n",
              "    </tr>\n",
              "    <tr>\n",
              "      <th>2024Q2</th>\n",
              "      <td>27</td>\n",
              "    </tr>\n",
              "    <tr>\n",
              "      <th>2024Q3</th>\n",
              "      <td>34</td>\n",
              "    </tr>\n",
              "    <tr>\n",
              "      <th>2024Q4</th>\n",
              "      <td>32</td>\n",
              "    </tr>\n",
              "  </tbody>\n",
              "</table>\n",
              "</div><br><label><b>dtype:</b> int64</label>"
            ]
          },
          "metadata": {},
          "execution_count": 10
        }
      ]
    },
    {
      "cell_type": "code",
      "source": [
        "df_agents = df_filtered.copy()"
      ],
      "metadata": {
        "id": "1ZyNUjIMYOSg"
      },
      "execution_count": null,
      "outputs": []
    },
    {
      "cell_type": "code",
      "source": [
        "df_agents.shape"
      ],
      "metadata": {
        "colab": {
          "base_uri": "https://localhost:8080/"
        },
        "id": "_ndRHyjnxJRd",
        "outputId": "fcab0e4a-d2b6-4a38-f7da-4ad1cf0bf32e"
      },
      "execution_count": null,
      "outputs": [
        {
          "output_type": "execute_result",
          "data": {
            "text/plain": [
              "(292, 30)"
            ]
          },
          "metadata": {},
          "execution_count": 17
        }
      ]
    },
    {
      "cell_type": "code",
      "source": [
        "df_agents[\"Full job description\"].iloc[0]"
      ],
      "metadata": {
        "colab": {
          "base_uri": "https://localhost:8080/",
          "height": 124
        },
        "id": "jW1BY4IbxXv4",
        "outputId": "8675619d-2fe2-4734-b2bd-ef5fc85385cc"
      },
      "execution_count": null,
      "outputs": [
        {
          "output_type": "execute_result",
          "data": {
            "text/plain": [
              "\"About Us:Observe.AI is the leading conversation intelligence platform for boosting contact center performance. Built on the industryâ€™s most accurate AI engine that analyzes 100% of interactions across channels, Observe.AI maximizes agent performance, pinpoints new revenue and coaching opportunities, and up-levels quality assurance and compliance.Observe.AIâ€™s powerful workflow automation allows contact centers to apply meaningful insights and take action at speed and scale. The result is stronger business outcomes, such as better customer experience, higher revenue, and better retention.Observe.AI is trusted by hundreds of customers and partners across industries â€“ including Pearson, 23andMe, Accolade, Group 1 Automotive, and Public Storage â€“ and is backed by Softbank Vision Fund 2, Zoom, Menlo Ventures, Scale Ventures, and Nexus Ventures. Observe.AI is headquartered in Redwood City, CA with offices in Bangalore, India. For more information, please visit www.observe.ai.The Opportunity:As Software Development Engineer 1 (SDE1), you will be building a scalable, secure, and multi-tenant cloud platform for near real-time as well as non-real-time processing, reporting, analyzing of data for interactions(calls, email, chat). You will use state-of-the-art cloud computing technologies. You will be dealing with huge volumes of data and creating systems that would be able to scale heavily with growing needs. You will be working with Product Managers, Architects, and Engineers.What You Will Do as a Software Development Engineer I:Work with the product team to understand the new product & features and contribute to building thoseContribute to the entire application lifecycle, focusing on coding and debugging, reviewing, testing, etcCollaborate with front-end developers and integrate user-facing elements with server-side logicOwn business logic and build reusable code and librariesOptimize the application for latency and scaleImplement security and data protectionWho you are:Bachelorâ€™s Degree in Computer Science with 1+ years of experience in working on large-scale productsExpertise in Java and Spring or other relevant frameworksStrong knowledge of design patternsGood technical experience, curiosity to know the unknown, and an ambition to growExperience with startup cultures in the past is preferableDemonstrated adaptability and ability to scale in the pastAbility to perform well in a fast-paced environmentWorking knowledge in at least one of the SQL or no-SQL databases such as Postgres, MongoDB, Cassandra, RedisExposure in the queue (Rabbitmq, Kafka, etc), cache(Ehcache, Memcache)Knowledge of container management tools (docker-swarm, Kubernetes) is a plusWhat we offer:Excellent medical insurance options and free online doctor consultationsYearly privilege and sick leaves as per Karnataka S&E ActGenerous holidays (National and festive) recognition and parental leave policies. Learning & Development fund to support your continuous learning journey and professional developmentFun events to build culture across the organizationFlexible benefit plans for tax exemptions. (For Eg: Meal card, PF, etc) If you are ambitious, make an impact wherever you go, and you're ready to shape the future of Observe.AI, we encourage you to apply. For more information, visit www.observe.ai.We welcome all people. We celebrate diversity of all kinds and are committed to creating an inclusive culture built on a foundation of respect for all individuals. We seek to hire, develop and retain talented people from all backgrounds. Individuals from non-traditional backgrounds, historically marginalized or underrepresented groups are strongly encouraged to apply.Observe.AI is an Equal Employment Opportunity employer that proudly pursues and hires a diverse workforce. Observe AI does not make hiring or employment decisions on the basis of race, color, religion or religious belief, ethnic or national origin, nationality, sex, gender, gender identity, sexual orientation, disability, age, military or veteran status, or any other basis protected by applicable local, state, or federal laws or prohibited by Company policy. Observe.AI also strives for a healthy and safe workplace and strictly prohibits harassment of any kind.\""
            ],
            "application/vnd.google.colaboratory.intrinsic+json": {
              "type": "string"
            }
          },
          "metadata": {},
          "execution_count": 19
        }
      ]
    },
    {
      "cell_type": "code",
      "source": [
        "keywords = [\n",
        "    \"opensource\",  # Catches variations like \"open-source\"\n",
        "    \"OSS\",\n",
        "    \"FOSS\",\n",
        "    \"GPL\",\n",
        "    \"MIT\",\n",
        "    \"BSD\",\n",
        "    \"GNU\",\n",
        "    \"copyleft\",\n",
        "    \"libre\",\n",
        "    \"Apache\",\n",
        "    \"CNCF\",\n",
        "    \"OSI\",\n",
        "    \"FSF\",\n",
        "    \"SFC\",\n",
        "    \"OSHW\",\n",
        "    \"OSINT\",\n",
        "    \"GPL\",  # GNU General Public License (v2, v3)\n",
        "    \"LGPL\", # GNU Lesser General Public License\n",
        "    \"AGPL\", # GNU Affero General Public License\n",
        "    \"MIT\",\n",
        "    \"BSD\",  # BSD licenses (various versions)\n",
        "    \"Apache\", # Apache License 2.0\n",
        "    \"MPL\",  # Mozilla Public License\n",
        "    \"EPL\",  # Eclipse Public License\n",
        "    \"CDDL\", # Common Development and Distribution License\n",
        "    \"CPL\",  # Common Public License\n",
        "    \"IPL\",  # IBM Public License\n",
        "    \"Artistic\", # Artistic License (various versions)\n",
        "    \"Zlib\", # zlib License\n",
        "    \"Boost\", # Boost Software License\n",
        "    \"Unlicense\"\n",
        "]\n",
        "\n",
        "def contains_keywords(text):\n",
        "  \"\"\"Checks if the text contains any of the keywords.\"\"\"\n",
        "  if isinstance(text, str):\n",
        "    for keyword in keywords:\n",
        "      if keyword.lower() in text:\n",
        "        return True\n",
        "  return False\n",
        "\n",
        "\n",
        "df_filtered = df[df[\"Full job description\"].apply(contains_keywords)]\n",
        "len(df_filtered) / len(df) * 100\n",
        "\n",
        "monthly_counts = df_filtered.groupby(df_filtered['Date posted'].dt.to_period('Q')).size()\n",
        "\n",
        "monthly_counts"
      ],
      "metadata": {
        "colab": {
          "base_uri": "https://localhost:8080/",
          "height": 492
        },
        "outputId": "d17b6de6-5ccf-474b-afd7-29eef67bed17",
        "id": "F1oJm5WGvlXb"
      },
      "execution_count": null,
      "outputs": [
        {
          "output_type": "execute_result",
          "data": {
            "text/plain": [
              "Date posted\n",
              "2022Q1     3981\n",
              "2022Q2    15337\n",
              "2022Q3    26448\n",
              "2022Q4    25399\n",
              "2023Q1    24200\n",
              "2023Q2    19077\n",
              "2023Q3    25699\n",
              "2023Q4    22658\n",
              "2024Q1    21086\n",
              "2024Q2    18123\n",
              "2024Q3    18529\n",
              "2024Q4    13251\n",
              "Freq: Q-DEC, dtype: int64"
            ],
            "text/html": [
              "<div>\n",
              "<style scoped>\n",
              "    .dataframe tbody tr th:only-of-type {\n",
              "        vertical-align: middle;\n",
              "    }\n",
              "\n",
              "    .dataframe tbody tr th {\n",
              "        vertical-align: top;\n",
              "    }\n",
              "\n",
              "    .dataframe thead th {\n",
              "        text-align: right;\n",
              "    }\n",
              "</style>\n",
              "<table border=\"1\" class=\"dataframe\">\n",
              "  <thead>\n",
              "    <tr style=\"text-align: right;\">\n",
              "      <th></th>\n",
              "      <th>0</th>\n",
              "    </tr>\n",
              "    <tr>\n",
              "      <th>Date posted</th>\n",
              "      <th></th>\n",
              "    </tr>\n",
              "  </thead>\n",
              "  <tbody>\n",
              "    <tr>\n",
              "      <th>2022Q1</th>\n",
              "      <td>3981</td>\n",
              "    </tr>\n",
              "    <tr>\n",
              "      <th>2022Q2</th>\n",
              "      <td>15337</td>\n",
              "    </tr>\n",
              "    <tr>\n",
              "      <th>2022Q3</th>\n",
              "      <td>26448</td>\n",
              "    </tr>\n",
              "    <tr>\n",
              "      <th>2022Q4</th>\n",
              "      <td>25399</td>\n",
              "    </tr>\n",
              "    <tr>\n",
              "      <th>2023Q1</th>\n",
              "      <td>24200</td>\n",
              "    </tr>\n",
              "    <tr>\n",
              "      <th>2023Q2</th>\n",
              "      <td>19077</td>\n",
              "    </tr>\n",
              "    <tr>\n",
              "      <th>2023Q3</th>\n",
              "      <td>25699</td>\n",
              "    </tr>\n",
              "    <tr>\n",
              "      <th>2023Q4</th>\n",
              "      <td>22658</td>\n",
              "    </tr>\n",
              "    <tr>\n",
              "      <th>2024Q1</th>\n",
              "      <td>21086</td>\n",
              "    </tr>\n",
              "    <tr>\n",
              "      <th>2024Q2</th>\n",
              "      <td>18123</td>\n",
              "    </tr>\n",
              "    <tr>\n",
              "      <th>2024Q3</th>\n",
              "      <td>18529</td>\n",
              "    </tr>\n",
              "    <tr>\n",
              "      <th>2024Q4</th>\n",
              "      <td>13251</td>\n",
              "    </tr>\n",
              "  </tbody>\n",
              "</table>\n",
              "</div><br><label><b>dtype:</b> int64</label>"
            ]
          },
          "metadata": {},
          "execution_count": 12
        }
      ]
    },
    {
      "cell_type": "code",
      "source": [
        "df_oss = df_filtered.copy()"
      ],
      "metadata": {
        "id": "CQPSIH7fw-uH"
      },
      "execution_count": null,
      "outputs": []
    },
    {
      "cell_type": "code",
      "source": [
        "len(df_oss)"
      ],
      "metadata": {
        "colab": {
          "base_uri": "https://localhost:8080/"
        },
        "id": "UFTIEAGKfRaG",
        "outputId": "3e3aecad-e1f6-4922-fae3-c87c6a1899d8"
      },
      "execution_count": null,
      "outputs": [
        {
          "output_type": "execute_result",
          "data": {
            "text/plain": [
              "233788"
            ]
          },
          "metadata": {},
          "execution_count": 14
        }
      ]
    },
    {
      "cell_type": "code",
      "source": [
        "open_source_ai_resources = [\n",
        "    # Machine Learning Frameworks\n",
        "    \"TensorFlow\", \"PyTorch\", \"Keras\", \"scikit-learn\", \"JAX\", \"MXNet\",\n",
        "    \"Theano\", \"Caffe\", \"Chainer\", \"FastAI\",\n",
        "\n",
        "    # Deep Learning Libraries\n",
        "    \"PyTorch Lightning\", \"Hugging Face Transformers\", \"Keras Tuner\",\n",
        "    \"Transformers\", \"Detectron2\", \"AllenNLP\", \"DeepSpeed\",\n",
        "\n",
        "    # Natural Language Processing\n",
        "    \"NLTK\", \"spaCy\", \"Gensim\", \"AllenNLP\", \"Stanford NLP\", \"Stanza\",\n",
        "\n",
        "    # Computer Vision\n",
        "    \"OpenCV\", \"Dlib\", \"Kornia\", \"Albumentations\",\n",
        "\n",
        "    # Reinforcement Learning\n",
        "    \"OpenAI Gym\", \"Ray RLlib\", \"Stable Baselines3\",\n",
        "\n",
        "    # Data Processing and Manipulation\n",
        "    \"NumPy\", \"Pandas\", \"SciPy\", \"Dask\", \"Vaex\",\n",
        "\n",
        "    # Visualization\n",
        "    \"Matplotlib\", \"Seaborn\", \"Plotly\", \"Bokeh\", \"Altair\",\n",
        "\n",
        "    # MLOps and Model Management\n",
        "    \"MLflow\", \"Kubeflow\", \"DVC (Data Version Control)\", \"Weights & Biases\",\n",
        "\n",
        "    # Neural Network Specific\n",
        "    \"Netron\", \"Neuraxle\", \"Optuna\",\n",
        "\n",
        "    # Probabilistic Programming\n",
        "    \"PyMC\", \"Stan\", \"Edward2\",\n",
        "\n",
        "    # Generative AI\n",
        "    \"Stable Diffusion\", \"Hugging Face Diffusers\", \"DeepFake Detection Tools\",\n",
        "\n",
        "    # Specialized AI Libraries\n",
        "    \"OpenAI Gym\", \"Kornia\", \"Ivy\", \"ONNX Runtime\", \"TensorRT\",\n",
        "\n",
        "    # Python AI Languages and Extensions\n",
        "    \"Julia\", \"Numba\", \"Cython\",\n",
        "\n",
        "    # Symbolic AI and Reasoning\n",
        "    \"SymPy\", \"PyCLIPS\", \"Prolog Interpreters\",\n",
        "\n",
        "    # Distributed and Parallel Computing\n",
        "    \"Dask\", \"Ray\", \"PySpark\", \"Horovod\",\n",
        "\n",
        "    # Explainable AI\n",
        "    \"SHAP\", \"LIME\", \"Captum\", \"ELI5\",\n",
        "\n",
        "    # Time Series and Forecasting\n",
        "    \"Prophet\", \"statsmodels\", \"pmdarima\",\n",
        "\n",
        "    # Quantum Machine Learning\n",
        "    \"PennyLane\", \"Qiskit\", \"Cirq\",\n",
        "\n",
        "    # Audio and Speech Processing\n",
        "    \"librosa\", \"SpeechRecognition\", \"pyAudioAnalysis\",\n",
        "\n",
        "    # Robotics and Control\n",
        "    \"ROS (Robot Operating System)\", \"OpenAI Gym\", \"Gazebo Simulator\"\n",
        "]\n",
        "\n",
        "def contains_keywords(text):\n",
        "  \"\"\"Checks if the text contains any of the keywords.\"\"\"\n",
        "  if isinstance(text, str):\n",
        "    for keyword in open_source_ai_resources:\n",
        "      if keyword in text:\n",
        "        return True\n",
        "  return False\n",
        "\n",
        "\n",
        "df_filtered = df[df[\"Full job description\"].apply(contains_keywords)]\n",
        "len(df_filtered) / len(df) * 100\n"
      ],
      "metadata": {
        "colab": {
          "base_uri": "https://localhost:8080/"
        },
        "id": "REmt1NJQ42NH",
        "outputId": "3e10ab24-8f0c-4c09-c237-a3197d3a404e"
      },
      "execution_count": null,
      "outputs": [
        {
          "output_type": "execute_result",
          "data": {
            "text/plain": [
              "23.191899925577"
            ]
          },
          "metadata": {},
          "execution_count": 39
        }
      ]
    },
    {
      "cell_type": "code",
      "source": [
        "# Let's dive deeper\n",
        "\n",
        "open_source_keywords = [\n",
        "    # Licensing\n",
        "    \"GPL\", \"GNU General Public License\", \"MIT\", \"MIT License\", \"Apache\", \"Apache License\",\n",
        "    \"BSD\", \"BSD License\", \"Creative Commons\", \"open source\", \"OSS\", \"FOSS\", \"Open-Source\",\n",
        "    \"Free Software Foundation\", \"AGPL\", \"LGPL\",\n",
        "\n",
        "    # Development Platforms\n",
        "    # \"GitHub\", \"GitLab\", \"SourceForge\", \"Bitbucket\", \"Open Source Collaboration\",\n",
        "\n",
        "    # Philosophy and Principles\n",
        "    # \"Free Software\", \"Open Source\", \"Copyleft\", \"Share-Alike\",\n",
        "    # \"Collaborative Development\", \"Transparency\", \"Community-Driven\",\n",
        "\n",
        "    # Software Types\n",
        "    # \"Linux\", \"Apache\", \"Mozilla\", \"OpenJDK\", \"WordPress\", \"Android Open Source Project\",\n",
        "    # \"OpenSSL\", \"GIMP\", \"Blender\", \"Firefox\", \"Chromium\",\n",
        "\n",
        "    # Programming Languages\n",
        "    # \"Python\", \"Java\", \"Ruby\", \"PHP\", \"Rust\", \"Go\", \"Kotlin\", \"Swift Open Source\",\n",
        "\n",
        "    # Development Concepts\n",
        "    # \"Version Control\", \"Open Source Contribution\", \"Pull Request\",\n",
        "    # \"Code Review\", \"Open Source Community\", \"Distributed Development\",\n",
        "\n",
        "    # Licensing Concepts\n",
        "    # \"Permissive License\", \"Copyleft License\", \"Commercial-Friendly\",\n",
        "    # \"Source Code Availability\", \"Derivative Works\", \"Attribution\",\n",
        "\n",
        "    # Open Source Organizations\n",
        "    \"Apache Software Foundation\", \"Mozilla Foundation\",\n",
        "    \"Linux Foundation\", \"Free Software Foundation\",\n",
        "\n",
        "    # Open Source Principles\n",
        "    # \"Transparency\", \"Collaborative\", \"Community-Developed\",\n",
        "    # \"Peer Review\", \"Shared Innovation\", \"Public Modification\",\n",
        "\n",
        "    # Open Source Tools\n",
        "    # \"Git\", \"Docker\", \"Kubernetes\", \"Jenkins\", \"Ansible\", \"Terraform\",\n",
        "    # \"Prometheus\", \"Grafana\", \"MongoDB\", \"PostgreSQL\", \"Redis\",\n",
        "\n",
        "    # Open Source Ecosystems\n",
        "    # \"Open Source Cloud\", \"Open Source AI\", \"Open Source Machine Learning\",\n",
        "    # \"Open Source Web Frameworks\", \"Open Source Operating Systems\",\n",
        "\n",
        "    # Collaboration Methods\n",
        "    \"Forking\", \"Merging\", \"Code Contribution\", \"Issue Tracking\",\n",
        "    \"Open Development\", \"Collaborative Coding\"\n",
        "]\n",
        "\n",
        "\n",
        "def contains_keywords(text):\n",
        "  \"\"\"Checks if the text contains any of the keywords.\"\"\"\n",
        "  if isinstance(text, str):\n",
        "    for keyword in open_source_keywords:\n",
        "      if keyword in text:\n",
        "        return True\n",
        "  return False\n",
        "\n",
        "\n",
        "df_filtered = df[df[\"Full job description\"].apply(contains_keywords)]\n"
      ],
      "metadata": {
        "id": "zPg3w3JWQkHf"
      },
      "execution_count": null,
      "outputs": []
    },
    {
      "cell_type": "code",
      "source": [
        "len(df_filtered) / len(df)"
      ],
      "metadata": {
        "colab": {
          "base_uri": "https://localhost:8080/"
        },
        "id": "mQeQEIiyREa3",
        "outputId": "64d74e85-cb31-43e5-e97e-b35c78c5f349"
      },
      "execution_count": null,
      "outputs": [
        {
          "output_type": "execute_result",
          "data": {
            "text/plain": [
              "0.0874893601850325"
            ]
          },
          "metadata": {},
          "execution_count": 16
        }
      ]
    },
    {
      "cell_type": "code",
      "source": [
        "# Just GenAI\n",
        "\n",
        "open_source_keywords = [\n",
        "    \"GenAI\", \"Generative AI\", \"Gen AI\", \"LLM\", \"Transformer\",\n",
        "    \"Image Generation\", \"Diffusion\", \"Text Generation\"\n",
        "]\n",
        "\n",
        "def contains_keywords(text):\n",
        "  \"\"\"Checks if the text contains any of the keywords.\"\"\"\n",
        "  if isinstance(text, str):\n",
        "    for keyword in open_source_keywords:\n",
        "      if keyword in text:\n",
        "        return True\n",
        "  return False\n",
        "\n",
        "\n",
        "df_filtered = df[df[\"Full job description\"].apply(contains_keywords)]\n",
        "len(df_filtered) / len(df) * 100\n"
      ],
      "metadata": {
        "colab": {
          "base_uri": "https://localhost:8080/"
        },
        "id": "oi74idW3Xwpo",
        "outputId": "f9045eac-36b6-4def-d47d-8a9f35a46fb5"
      },
      "execution_count": null,
      "outputs": [
        {
          "output_type": "execute_result",
          "data": {
            "text/plain": [
              "5.816580731127977"
            ]
          },
          "metadata": {},
          "execution_count": 42
        }
      ]
    },
    {
      "cell_type": "code",
      "source": [
        "# Create a filtured DF using keywords\n",
        "\n",
        "keywords = [\"open source\", \"OSS\", \"open-source\", \"FOSS\", \"Apache\", \"GPL\", \"MIT\",\n",
        "            \"Berkeley\", \"GNU\", \"BSD\", \"creative commons\"]\n",
        "\n",
        "def contains_keywords(text):\n",
        "  \"\"\"Checks if the text contains any of the keywords.\"\"\"\n",
        "  if isinstance(text, str):\n",
        "    for keyword in keywords:\n",
        "      if keyword in text:\n",
        "        return True\n",
        "  return False\n",
        "\n",
        "\n",
        "df_oss = df_filtered[df_filtered[\"Full job description\"].apply(contains_keywords)]\n",
        "len(df_oss) / len(df_filtered) * 100"
      ],
      "metadata": {
        "colab": {
          "base_uri": "https://localhost:8080/"
        },
        "id": "Ga7MtdhXZtJu",
        "outputId": "2d9d46fd-1f6c-43dc-c9e7-ed4028b8ee7d"
      },
      "execution_count": null,
      "outputs": [
        {
          "output_type": "execute_result",
          "data": {
            "text/plain": [
              "18.050873429359484"
            ]
          },
          "metadata": {},
          "execution_count": 44
        }
      ]
    },
    {
      "cell_type": "code",
      "source": [
        "# Top open source models\n",
        "\n",
        "open_source_keywords = [\n",
        "    \"Mistral\", \"Whisper\", \"FLUX\", \"Qwen\", \"Bert\", \"Phi\", \"Flan\", \"T5\", \"Granite\"\n",
        "]\n",
        "\n",
        "def contains_keywords(text):\n",
        "  \"\"\"Checks if the text contains any of the keywords.\"\"\"\n",
        "  if isinstance(text, str):\n",
        "    for keyword in open_source_keywords:\n",
        "      if keyword in text:\n",
        "        return True\n",
        "  return False\n",
        "\n",
        "\n",
        "df_oss_models = df_oss[df_oss[\"Full job description\"].apply(contains_keywords)]\n",
        "len(df_oss_models) / len(df_oss) * 100"
      ],
      "metadata": {
        "colab": {
          "base_uri": "https://localhost:8080/"
        },
        "id": "sKFlQceSP_UE",
        "outputId": "d4034f01-b145-4cfc-fc84-e27df362fc3a"
      },
      "execution_count": null,
      "outputs": [
        {
          "output_type": "execute_result",
          "data": {
            "text/plain": [
              "8.191850594227503"
            ]
          },
          "metadata": {},
          "execution_count": 45
        }
      ]
    },
    {
      "cell_type": "code",
      "source": [
        "len(df_oss_models)"
      ],
      "metadata": {
        "colab": {
          "base_uri": "https://localhost:8080/"
        },
        "id": "NhRilw05iEWm",
        "outputId": "aa7ef495-54b2-4474-e62b-c102fed710e9"
      },
      "execution_count": null,
      "outputs": [
        {
          "output_type": "execute_result",
          "data": {
            "text/plain": [
              "193"
            ]
          },
          "metadata": {},
          "execution_count": 59
        }
      ]
    },
    {
      "cell_type": "code",
      "source": [
        "# prompt: using df_oss_models, calculate the percentage of job posts (\"Full job description\") that contain each of the following keywords: open_source_keywords = [\n",
        "#     \"Mistral\", \"Whisper\", \"FLUX\", \"Qwen\", \"Bert\", \"Phi\", \"Flan\", \"T5\", \"Granite\"\n",
        "# ]\n",
        "\n",
        "# Calculate the percentage of job posts containing each keyword\n",
        "keyword_percentages = {}\n",
        "for keyword in open_source_keywords:\n",
        "    keyword_count = df_oss_models['Full job description'].str.contains(keyword, case=False, na=False).sum()\n",
        "    keyword_percentages[keyword] = (keyword_count / len(df_oss_models)) * 100\n",
        "\n",
        "# Print the results\n",
        "for keyword, percentage in keyword_percentages.items():\n",
        "    print(f\"Percentage of job posts containing '{keyword}': {percentage:.2f}%\")"
      ],
      "metadata": {
        "colab": {
          "base_uri": "https://localhost:8080/"
        },
        "id": "_a0yhZjSZeF7",
        "outputId": "162f0e61-4206-40ed-8e49-979f16b8754a"
      },
      "execution_count": null,
      "outputs": [
        {
          "output_type": "stream",
          "name": "stdout",
          "text": [
            "Percentage of job posts containing 'Mistral': 19.17%\n",
            "Percentage of job posts containing 'Whisper': 2.59%\n",
            "Percentage of job posts containing 'FLUX': 0.00%\n",
            "Percentage of job posts containing 'Qwen': 0.00%\n",
            "Percentage of job posts containing 'Bert': 32.64%\n",
            "Percentage of job posts containing 'Phi': 67.88%\n",
            "Percentage of job posts containing 'Flan': 2.07%\n",
            "Percentage of job posts containing 'T5': 13.47%\n",
            "Percentage of job posts containing 'Granite': 0.00%\n"
          ]
        }
      ]
    },
    {
      "cell_type": "code",
      "source": [
        "import plotly.graph_objects as plt\n",
        "\n",
        "def create_genai_oss_sankey():\n",
        "    # Data for Sankey Diagram\n",
        "    source = [0, 1, 2, 2, 2, 2]  # source nodes\n",
        "    target = [1, 2, 3, 4, 5, 6]  # target nodes\n",
        "    value = [5.80, 18.00, 8.19, 8.19, 8.19, 8.19]  # values for each link\n",
        "\n",
        "    # Node labels\n",
        "    label = [\n",
        "        \"GenAI (5.80%)\",  # Level 0\n",
        "        \"Open Source (18.00%)\",  # Level 1\n",
        "        \"Select OSS Models (8.19%)\",  # Level 2\n",
        "        \"Mistral (19.17%)\",  # Level 3\n",
        "        \"Bert (32.64%)\",  # Level 3\n",
        "        \"Phi (67.88%)\",  # Level 3\n",
        "        \"Flan/T5 (15.47%)\"  # Level 3\n",
        "    ]\n",
        "\n",
        "    # Node colors - using a color palette\n",
        "    color_palette = [\n",
        "        'rgba(31, 119, 180, 0.8)',   # Deep Blue\n",
        "        'rgba(255, 127, 14, 0.8)',   # Orange\n",
        "        'rgba(44, 160, 44, 0.8)',    # Green\n",
        "        'rgba(214, 39, 40, 0.8)',    # Red\n",
        "        'rgba(148, 103, 189, 0.8)',  # Purple\n",
        "        'rgba(140, 86, 75, 0.8)',    # Brown\n",
        "        'rgba(227, 119, 194, 0.8)'   # Pink\n",
        "    ]\n",
        "\n",
        "    # Create Sankey diagram\n",
        "    fig = plt.Figure(data=[plt.Sankey(\n",
        "        node = dict(\n",
        "            pad = 15,\n",
        "            thickness = 20,\n",
        "            line = dict(color = \"black\", width = 0.5),\n",
        "            label = label,\n",
        "            color = color_palette\n",
        "        ),\n",
        "        link = dict(\n",
        "            source = source,\n",
        "            target = target,\n",
        "            value = value\n",
        "        )\n",
        "    )])\n",
        "\n",
        "    # Update layout for better readability\n",
        "    fig.update_layout(\n",
        "        title_text=\"GenAI Open Source Model Distribution\",\n",
        "        font_size=10,\n",
        "        title_font_size=16,\n",
        "        width=1200,\n",
        "        height=600\n",
        "    )\n",
        "\n",
        "    # Save the figure as HTML (interactive version)\n",
        "    fig.write_html(\"genai_oss_sankey.html\")\n",
        "\n",
        "    return fig\n",
        "\n",
        "# Execute the function\n",
        "sankey_diagram = create_genai_oss_sankey()\n",
        "print(\"Sankey diagram saved as 'genai_oss_sankey.html'\")\n",
        "\n",
        "# Optional: Display basic information about the visualization\n",
        "print(\"\\nData Flow Details:\")\n",
        "print(\"- GenAI: 5.80%\")\n",
        "print(\"- Open Source: 18.00%\")\n",
        "print(\"- Select OSS Models (8.19%):\")\n",
        "print(\"  * Mistral: 19.17%\")\n",
        "print(\"  * Bert: 32.64%\")\n",
        "print(\"  * Phi: 67.88%\")\n",
        "print(\"  * Flan/T5: 15.47%\")"
      ],
      "metadata": {
        "colab": {
          "base_uri": "https://localhost:8080/"
        },
        "id": "8YLhTl4MdoMm",
        "outputId": "1c3a0e74-4351-422b-a08e-a0848487202f"
      },
      "execution_count": null,
      "outputs": [
        {
          "output_type": "stream",
          "name": "stdout",
          "text": [
            "Sankey diagram saved as 'genai_oss_sankey.html'\n",
            "\n",
            "Data Flow Details:\n",
            "- GenAI: 5.80%\n",
            "- Open Source: 18.00%\n",
            "- Select OSS Models (8.19%):\n",
            "  * Mistral: 19.17%\n",
            "  * Bert: 32.64%\n",
            "  * Phi: 67.88%\n",
            "  * Flan/T5: 15.47%\n"
          ]
        }
      ]
    },
    {
      "cell_type": "code",
      "source": [
        "import plotly.express as px\n",
        "\n",
        "# Define the hierarchical data\n",
        "data = {\n",
        "    'Category': ['GenAI', 'Open Source', 'Select OSS models', 'Mistral', 'Bert', 'Phi', 'Flan/T5'],\n",
        "    'Parent': ['', 'GenAI', 'Open Source', 'Select OSS models', 'Select OSS models', 'Select OSS models', 'Select OSS models'],\n",
        "    'Value': [5.80, 18.00, 8.19, 19.17, 32.64, 67.88, 15.47]\n",
        "}\n",
        "\n",
        "# Create a DataFrame\n",
        "df_tree = pd.DataFrame(data)\n",
        "\n",
        "# Create the treemap\n",
        "fig = px.treemap(df_tree, path=['Parent', 'Category'], values='Value',\n",
        "                  color='Value', color_continuous_scale='RdBu',\n",
        "                  title='Hierarchical Treemap')\n",
        "\n",
        "# Show the plot\n",
        "fig.show()\n"
      ],
      "metadata": {
        "colab": {
          "base_uri": "https://localhost:8080/",
          "height": 542
        },
        "id": "mB_Q2hkei57h",
        "outputId": "6b9f6285-52e0-4fa9-d9f5-23509dc32a8e"
      },
      "execution_count": null,
      "outputs": [
        {
          "output_type": "display_data",
          "data": {
            "text/html": [
              "<html>\n",
              "<head><meta charset=\"utf-8\" /></head>\n",
              "<body>\n",
              "    <div>            <script src=\"https://cdnjs.cloudflare.com/ajax/libs/mathjax/2.7.5/MathJax.js?config=TeX-AMS-MML_SVG\"></script><script type=\"text/javascript\">if (window.MathJax && window.MathJax.Hub && window.MathJax.Hub.Config) {window.MathJax.Hub.Config({SVG: {font: \"STIX-Web\"}});}</script>                <script type=\"text/javascript\">window.PlotlyConfig = {MathJaxConfig: 'local'};</script>\n",
              "        <script charset=\"utf-8\" src=\"https://cdn.plot.ly/plotly-2.35.2.min.js\"></script>                <div id=\"2ba1d9fc-16dc-4bcd-a195-588936aa1844\" class=\"plotly-graph-div\" style=\"height:525px; width:100%;\"></div>            <script type=\"text/javascript\">                                    window.PLOTLYENV=window.PLOTLYENV || {};                                    if (document.getElementById(\"2ba1d9fc-16dc-4bcd-a195-588936aa1844\")) {                    Plotly.newPlot(                        \"2ba1d9fc-16dc-4bcd-a195-588936aa1844\",                        [{\"branchvalues\":\"total\",\"customdata\":[[32.64],[15.47],[5.800000000000001],[19.17],[18.0],[67.88],[8.19],[5.800000000000001],[18.0],[8.19],[46.462517016868894]],\"domain\":{\"x\":[0.0,1.0],\"y\":[0.0,1.0]},\"hovertemplate\":\"labels=%{label}\\u003cbr\\u003eValue_sum=%{value}\\u003cbr\\u003eparent=%{parent}\\u003cbr\\u003eid=%{id}\\u003cbr\\u003eValue=%{color}\\u003cextra\\u003e\\u003c\\u002fextra\\u003e\",\"ids\":[\"Select OSS models\\u002fBert\",\"Select OSS models\\u002fFlan\\u002fT5\",\"\\u002fGenAI\",\"Select OSS models\\u002fMistral\",\"GenAI\\u002fOpen Source\",\"Select OSS models\\u002fPhi\",\"Open Source\\u002fSelect OSS models\",\"\",\"GenAI\",\"Open Source\",\"Select OSS models\"],\"labels\":[\"Bert\",\"Flan\\u002fT5\",\"GenAI\",\"Mistral\",\"Open Source\",\"Phi\",\"Select OSS models\",\"\",\"GenAI\",\"Open Source\",\"Select OSS models\"],\"marker\":{\"coloraxis\":\"coloraxis\",\"colors\":[32.64,15.47,5.800000000000001,19.17,18.0,67.88,8.19,5.800000000000001,18.0,8.19,46.462517016868894]},\"name\":\"\",\"parents\":[\"Select OSS models\",\"Select OSS models\",\"\",\"Select OSS models\",\"GenAI\",\"Select OSS models\",\"Open Source\",\"\",\"\",\"\",\"\"],\"values\":[32.64,15.47,5.8,19.17,18.0,67.88,8.19,5.8,18.0,8.19,135.16],\"type\":\"treemap\"}],                        {\"template\":{\"data\":{\"histogram2dcontour\":[{\"type\":\"histogram2dcontour\",\"colorbar\":{\"outlinewidth\":0,\"ticks\":\"\"},\"colorscale\":[[0.0,\"#0d0887\"],[0.1111111111111111,\"#46039f\"],[0.2222222222222222,\"#7201a8\"],[0.3333333333333333,\"#9c179e\"],[0.4444444444444444,\"#bd3786\"],[0.5555555555555556,\"#d8576b\"],[0.6666666666666666,\"#ed7953\"],[0.7777777777777778,\"#fb9f3a\"],[0.8888888888888888,\"#fdca26\"],[1.0,\"#f0f921\"]]}],\"choropleth\":[{\"type\":\"choropleth\",\"colorbar\":{\"outlinewidth\":0,\"ticks\":\"\"}}],\"histogram2d\":[{\"type\":\"histogram2d\",\"colorbar\":{\"outlinewidth\":0,\"ticks\":\"\"},\"colorscale\":[[0.0,\"#0d0887\"],[0.1111111111111111,\"#46039f\"],[0.2222222222222222,\"#7201a8\"],[0.3333333333333333,\"#9c179e\"],[0.4444444444444444,\"#bd3786\"],[0.5555555555555556,\"#d8576b\"],[0.6666666666666666,\"#ed7953\"],[0.7777777777777778,\"#fb9f3a\"],[0.8888888888888888,\"#fdca26\"],[1.0,\"#f0f921\"]]}],\"heatmap\":[{\"type\":\"heatmap\",\"colorbar\":{\"outlinewidth\":0,\"ticks\":\"\"},\"colorscale\":[[0.0,\"#0d0887\"],[0.1111111111111111,\"#46039f\"],[0.2222222222222222,\"#7201a8\"],[0.3333333333333333,\"#9c179e\"],[0.4444444444444444,\"#bd3786\"],[0.5555555555555556,\"#d8576b\"],[0.6666666666666666,\"#ed7953\"],[0.7777777777777778,\"#fb9f3a\"],[0.8888888888888888,\"#fdca26\"],[1.0,\"#f0f921\"]]}],\"heatmapgl\":[{\"type\":\"heatmapgl\",\"colorbar\":{\"outlinewidth\":0,\"ticks\":\"\"},\"colorscale\":[[0.0,\"#0d0887\"],[0.1111111111111111,\"#46039f\"],[0.2222222222222222,\"#7201a8\"],[0.3333333333333333,\"#9c179e\"],[0.4444444444444444,\"#bd3786\"],[0.5555555555555556,\"#d8576b\"],[0.6666666666666666,\"#ed7953\"],[0.7777777777777778,\"#fb9f3a\"],[0.8888888888888888,\"#fdca26\"],[1.0,\"#f0f921\"]]}],\"contourcarpet\":[{\"type\":\"contourcarpet\",\"colorbar\":{\"outlinewidth\":0,\"ticks\":\"\"}}],\"contour\":[{\"type\":\"contour\",\"colorbar\":{\"outlinewidth\":0,\"ticks\":\"\"},\"colorscale\":[[0.0,\"#0d0887\"],[0.1111111111111111,\"#46039f\"],[0.2222222222222222,\"#7201a8\"],[0.3333333333333333,\"#9c179e\"],[0.4444444444444444,\"#bd3786\"],[0.5555555555555556,\"#d8576b\"],[0.6666666666666666,\"#ed7953\"],[0.7777777777777778,\"#fb9f3a\"],[0.8888888888888888,\"#fdca26\"],[1.0,\"#f0f921\"]]}],\"surface\":[{\"type\":\"surface\",\"colorbar\":{\"outlinewidth\":0,\"ticks\":\"\"},\"colorscale\":[[0.0,\"#0d0887\"],[0.1111111111111111,\"#46039f\"],[0.2222222222222222,\"#7201a8\"],[0.3333333333333333,\"#9c179e\"],[0.4444444444444444,\"#bd3786\"],[0.5555555555555556,\"#d8576b\"],[0.6666666666666666,\"#ed7953\"],[0.7777777777777778,\"#fb9f3a\"],[0.8888888888888888,\"#fdca26\"],[1.0,\"#f0f921\"]]}],\"mesh3d\":[{\"type\":\"mesh3d\",\"colorbar\":{\"outlinewidth\":0,\"ticks\":\"\"}}],\"scatter\":[{\"fillpattern\":{\"fillmode\":\"overlay\",\"size\":10,\"solidity\":0.2},\"type\":\"scatter\"}],\"parcoords\":[{\"type\":\"parcoords\",\"line\":{\"colorbar\":{\"outlinewidth\":0,\"ticks\":\"\"}}}],\"scatterpolargl\":[{\"type\":\"scatterpolargl\",\"marker\":{\"colorbar\":{\"outlinewidth\":0,\"ticks\":\"\"}}}],\"bar\":[{\"error_x\":{\"color\":\"#2a3f5f\"},\"error_y\":{\"color\":\"#2a3f5f\"},\"marker\":{\"line\":{\"color\":\"#E5ECF6\",\"width\":0.5},\"pattern\":{\"fillmode\":\"overlay\",\"size\":10,\"solidity\":0.2}},\"type\":\"bar\"}],\"scattergeo\":[{\"type\":\"scattergeo\",\"marker\":{\"colorbar\":{\"outlinewidth\":0,\"ticks\":\"\"}}}],\"scatterpolar\":[{\"type\":\"scatterpolar\",\"marker\":{\"colorbar\":{\"outlinewidth\":0,\"ticks\":\"\"}}}],\"histogram\":[{\"marker\":{\"pattern\":{\"fillmode\":\"overlay\",\"size\":10,\"solidity\":0.2}},\"type\":\"histogram\"}],\"scattergl\":[{\"type\":\"scattergl\",\"marker\":{\"colorbar\":{\"outlinewidth\":0,\"ticks\":\"\"}}}],\"scatter3d\":[{\"type\":\"scatter3d\",\"line\":{\"colorbar\":{\"outlinewidth\":0,\"ticks\":\"\"}},\"marker\":{\"colorbar\":{\"outlinewidth\":0,\"ticks\":\"\"}}}],\"scattermapbox\":[{\"type\":\"scattermapbox\",\"marker\":{\"colorbar\":{\"outlinewidth\":0,\"ticks\":\"\"}}}],\"scatterternary\":[{\"type\":\"scatterternary\",\"marker\":{\"colorbar\":{\"outlinewidth\":0,\"ticks\":\"\"}}}],\"scattercarpet\":[{\"type\":\"scattercarpet\",\"marker\":{\"colorbar\":{\"outlinewidth\":0,\"ticks\":\"\"}}}],\"carpet\":[{\"aaxis\":{\"endlinecolor\":\"#2a3f5f\",\"gridcolor\":\"white\",\"linecolor\":\"white\",\"minorgridcolor\":\"white\",\"startlinecolor\":\"#2a3f5f\"},\"baxis\":{\"endlinecolor\":\"#2a3f5f\",\"gridcolor\":\"white\",\"linecolor\":\"white\",\"minorgridcolor\":\"white\",\"startlinecolor\":\"#2a3f5f\"},\"type\":\"carpet\"}],\"table\":[{\"cells\":{\"fill\":{\"color\":\"#EBF0F8\"},\"line\":{\"color\":\"white\"}},\"header\":{\"fill\":{\"color\":\"#C8D4E3\"},\"line\":{\"color\":\"white\"}},\"type\":\"table\"}],\"barpolar\":[{\"marker\":{\"line\":{\"color\":\"#E5ECF6\",\"width\":0.5},\"pattern\":{\"fillmode\":\"overlay\",\"size\":10,\"solidity\":0.2}},\"type\":\"barpolar\"}],\"pie\":[{\"automargin\":true,\"type\":\"pie\"}]},\"layout\":{\"autotypenumbers\":\"strict\",\"colorway\":[\"#636efa\",\"#EF553B\",\"#00cc96\",\"#ab63fa\",\"#FFA15A\",\"#19d3f3\",\"#FF6692\",\"#B6E880\",\"#FF97FF\",\"#FECB52\"],\"font\":{\"color\":\"#2a3f5f\"},\"hovermode\":\"closest\",\"hoverlabel\":{\"align\":\"left\"},\"paper_bgcolor\":\"white\",\"plot_bgcolor\":\"#E5ECF6\",\"polar\":{\"bgcolor\":\"#E5ECF6\",\"angularaxis\":{\"gridcolor\":\"white\",\"linecolor\":\"white\",\"ticks\":\"\"},\"radialaxis\":{\"gridcolor\":\"white\",\"linecolor\":\"white\",\"ticks\":\"\"}},\"ternary\":{\"bgcolor\":\"#E5ECF6\",\"aaxis\":{\"gridcolor\":\"white\",\"linecolor\":\"white\",\"ticks\":\"\"},\"baxis\":{\"gridcolor\":\"white\",\"linecolor\":\"white\",\"ticks\":\"\"},\"caxis\":{\"gridcolor\":\"white\",\"linecolor\":\"white\",\"ticks\":\"\"}},\"coloraxis\":{\"colorbar\":{\"outlinewidth\":0,\"ticks\":\"\"}},\"colorscale\":{\"sequential\":[[0.0,\"#0d0887\"],[0.1111111111111111,\"#46039f\"],[0.2222222222222222,\"#7201a8\"],[0.3333333333333333,\"#9c179e\"],[0.4444444444444444,\"#bd3786\"],[0.5555555555555556,\"#d8576b\"],[0.6666666666666666,\"#ed7953\"],[0.7777777777777778,\"#fb9f3a\"],[0.8888888888888888,\"#fdca26\"],[1.0,\"#f0f921\"]],\"sequentialminus\":[[0.0,\"#0d0887\"],[0.1111111111111111,\"#46039f\"],[0.2222222222222222,\"#7201a8\"],[0.3333333333333333,\"#9c179e\"],[0.4444444444444444,\"#bd3786\"],[0.5555555555555556,\"#d8576b\"],[0.6666666666666666,\"#ed7953\"],[0.7777777777777778,\"#fb9f3a\"],[0.8888888888888888,\"#fdca26\"],[1.0,\"#f0f921\"]],\"diverging\":[[0,\"#8e0152\"],[0.1,\"#c51b7d\"],[0.2,\"#de77ae\"],[0.3,\"#f1b6da\"],[0.4,\"#fde0ef\"],[0.5,\"#f7f7f7\"],[0.6,\"#e6f5d0\"],[0.7,\"#b8e186\"],[0.8,\"#7fbc41\"],[0.9,\"#4d9221\"],[1,\"#276419\"]]},\"xaxis\":{\"gridcolor\":\"white\",\"linecolor\":\"white\",\"ticks\":\"\",\"title\":{\"standoff\":15},\"zerolinecolor\":\"white\",\"automargin\":true,\"zerolinewidth\":2},\"yaxis\":{\"gridcolor\":\"white\",\"linecolor\":\"white\",\"ticks\":\"\",\"title\":{\"standoff\":15},\"zerolinecolor\":\"white\",\"automargin\":true,\"zerolinewidth\":2},\"scene\":{\"xaxis\":{\"backgroundcolor\":\"#E5ECF6\",\"gridcolor\":\"white\",\"linecolor\":\"white\",\"showbackground\":true,\"ticks\":\"\",\"zerolinecolor\":\"white\",\"gridwidth\":2},\"yaxis\":{\"backgroundcolor\":\"#E5ECF6\",\"gridcolor\":\"white\",\"linecolor\":\"white\",\"showbackground\":true,\"ticks\":\"\",\"zerolinecolor\":\"white\",\"gridwidth\":2},\"zaxis\":{\"backgroundcolor\":\"#E5ECF6\",\"gridcolor\":\"white\",\"linecolor\":\"white\",\"showbackground\":true,\"ticks\":\"\",\"zerolinecolor\":\"white\",\"gridwidth\":2}},\"shapedefaults\":{\"line\":{\"color\":\"#2a3f5f\"}},\"annotationdefaults\":{\"arrowcolor\":\"#2a3f5f\",\"arrowhead\":0,\"arrowwidth\":1},\"geo\":{\"bgcolor\":\"white\",\"landcolor\":\"#E5ECF6\",\"subunitcolor\":\"white\",\"showland\":true,\"showlakes\":true,\"lakecolor\":\"white\"},\"title\":{\"x\":0.05},\"mapbox\":{\"style\":\"light\"}}},\"coloraxis\":{\"colorbar\":{\"title\":{\"text\":\"Value\"}},\"colorscale\":[[0.0,\"rgb(103,0,31)\"],[0.1,\"rgb(178,24,43)\"],[0.2,\"rgb(214,96,77)\"],[0.3,\"rgb(244,165,130)\"],[0.4,\"rgb(253,219,199)\"],[0.5,\"rgb(247,247,247)\"],[0.6,\"rgb(209,229,240)\"],[0.7,\"rgb(146,197,222)\"],[0.8,\"rgb(67,147,195)\"],[0.9,\"rgb(33,102,172)\"],[1.0,\"rgb(5,48,97)\"]]},\"legend\":{\"tracegroupgap\":0},\"title\":{\"text\":\"Hierarchical Treemap\"}},                        {\"responsive\": true}                    ).then(function(){\n",
              "                            \n",
              "var gd = document.getElementById('2ba1d9fc-16dc-4bcd-a195-588936aa1844');\n",
              "var x = new MutationObserver(function (mutations, observer) {{\n",
              "        var display = window.getComputedStyle(gd).display;\n",
              "        if (!display || display === 'none') {{\n",
              "            console.log([gd, 'removed!']);\n",
              "            Plotly.purge(gd);\n",
              "            observer.disconnect();\n",
              "        }}\n",
              "}});\n",
              "\n",
              "// Listen for the removal of the full notebook cells\n",
              "var notebookContainer = gd.closest('#notebook-container');\n",
              "if (notebookContainer) {{\n",
              "    x.observe(notebookContainer, {childList: true});\n",
              "}}\n",
              "\n",
              "// Listen for the clearing of the current output cell\n",
              "var outputEl = gd.closest('.output');\n",
              "if (outputEl) {{\n",
              "    x.observe(outputEl, {childList: true});\n",
              "}}\n",
              "\n",
              "                        })                };                            </script>        </div>\n",
              "</body>\n",
              "</html>"
            ]
          },
          "metadata": {}
        }
      ]
    },
    {
      "cell_type": "code",
      "source": [],
      "metadata": {
        "id": "2yG-HIY4i5qB"
      },
      "execution_count": null,
      "outputs": []
    },
    {
      "cell_type": "code",
      "source": [],
      "metadata": {
        "id": "icn1Ps80i5ZF"
      },
      "execution_count": null,
      "outputs": []
    },
    {
      "cell_type": "code",
      "source": [],
      "metadata": {
        "id": "w5TmVJ04i5D9"
      },
      "execution_count": null,
      "outputs": []
    },
    {
      "cell_type": "code",
      "source": [
        "import plotly.express as px\n",
        "import pandas as pd\n",
        "\n",
        "def create_genai_oss_treemap():\n",
        "    # Prepare the data in a hierarchical format\n",
        "    data = [\n",
        "        # Top level\n",
        "        {\"parent\": \"All posts\", \"label\": \"GenAI\", \"value\": 5.80, \"color\": \"#1F77B4\"},\n",
        "\n",
        "        # Second level (child of GenAI)\n",
        "        {\"parent\": \"GenAI\", \"label\": \"Open Source\", \"value\": 18.00, \"color\": \"#FF7F0E\"},\n",
        "\n",
        "        # Third level (children of Open Source)\n",
        "        {\"parent\": \"Open Source\", \"label\": \"Select OSS Models\", \"value\": 8.19, \"color\": \"#2CA02C\"},\n",
        "\n",
        "        # Detailed models (children of Select OSS Models)\n",
        "        {\"parent\": \"Select OSS Models\", \"label\": \"Mistral\", \"value\": 19.17, \"color\": \"#D62728\"},\n",
        "        {\"parent\": \"Select OSS Models\", \"label\": \"Bert\", \"value\": 32.64, \"color\": \"#9467BD\"},\n",
        "        {\"parent\": \"Select OSS Models\", \"label\": \"Phi\", \"value\": 67.88, \"color\": \"#8C564B\"},\n",
        "        {\"parent\": \"Select OSS Models\", \"label\": \"Flan/T5\", \"value\": 15.47, \"color\": \"#E377C2\"}\n",
        "    ]\n",
        "\n",
        "    # Convert to DataFrame\n",
        "    df = pd.DataFrame(data)\n",
        "\n",
        "    # Create treemap\n",
        "    fig = px.treemap(\n",
        "        df,\n",
        "        path=['parent', 'label'],\n",
        "        values='value',\n",
        "        color='color',\n",
        "        color_discrete_map={row['color']: row['color'] for row in data},\n",
        "        title='GenAI Open Source Model Distribution'\n",
        "    )\n",
        "\n",
        "    # Customize layout\n",
        "    fig.update_traces(\n",
        "        texttemplate='%{label}<br>%{value:.2f}%',\n",
        "        textposition=\"middle center\" # Add a space between 'middle' and 'center'\n",
        "    )\n",
        "\n",
        "    # Update layout for better readability\n",
        "    fig.update_layout(\n",
        "        width=1200,\n",
        "        height=800,\n",
        "        margin=dict(t=50, l=25, r=25, b=25)\n",
        "    )\n",
        "\n",
        "    # Save the interactive HTML\n",
        "    fig.write_html(\"genai_oss_treemap.html\")\n",
        "\n",
        "    return fig\n",
        "\n",
        "# Generate the treemap\n",
        "treemap = create_genai_oss_treemap()\n",
        "print(\"Treemap saved as 'genai_oss_treemap.html'\")\n",
        "\n",
        "# Print out the hierarchical breakdown\n",
        "print(\"\\nHierarchical Breakdown:\")\n",
        "print(\"GenAI: 5.80%\")\n",
        "print(\"└── Open Source: 18.00%\")\n",
        "print(\"    └── Select OSS Models: 8.19%\")\n",
        "print(\"        ├── Mistral: 19.17%\")\n",
        "print(\"        ├── Bert: 32.64%\")\n",
        "print(\"        ├── Phi: 67.88%\")\n",
        "print(\"        └── Flan/T5: 15.47%\")"
      ],
      "metadata": {
        "colab": {
          "base_uri": "https://localhost:8080/"
        },
        "id": "sRwaZXENfJoa",
        "outputId": "a231836b-8d3e-47a5-bdea-54041d6f50d1"
      },
      "execution_count": null,
      "outputs": [
        {
          "output_type": "stream",
          "name": "stdout",
          "text": [
            "Treemap saved as 'genai_oss_treemap.html'\n",
            "\n",
            "Hierarchical Breakdown:\n",
            "GenAI: 5.80%\n",
            "└── Open Source: 18.00%\n",
            "    └── Select OSS Models: 8.19%\n",
            "        ├── Mistral: 19.17%\n",
            "        ├── Bert: 32.64%\n",
            "        ├── Phi: 67.88%\n",
            "        └── Flan/T5: 15.47%\n"
          ]
        }
      ]
    },
    {
      "cell_type": "code",
      "source": [
        "import numpy as np\n",
        "import matplotlib.pyplot as plt\n",
        "from wordcloud import WordCloud\n",
        "\n",
        "def generate_open_source_wordcloud():\n",
        "    # Reuse the keywords from our previous artifact\n",
        "    open_source_keywords = [\n",
        "        # Licensing\n",
        "        \"GPL\", \"GNU General Public License\", \"MIT License\", \"Apache License\",\n",
        "        \"BSD License\", \"Creative Commons\", \"Open Source Initiative\",\n",
        "        \"Free Software Foundation\", \"AGPL\", \"LGPL\",\n",
        "\n",
        "        # Development Platforms\n",
        "        \"GitHub\", \"GitLab\", \"SourceForge\", \"Bitbucket\", \"Open Source Collaboration\",\n",
        "\n",
        "        # Philosophy and Principles\n",
        "        \"Free Software\", \"Open Source\", \"Copyleft\", \"Share-Alike\",\n",
        "        \"Collaborative Development\", \"Transparency\", \"Community-Driven\",\n",
        "\n",
        "        # Software Types\n",
        "        \"Linux\", \"Apache\", \"Mozilla\", \"OpenJDK\", \"WordPress\", \"Android Open Source Project\",\n",
        "        \"OpenSSL\", \"GIMP\", \"Blender\", \"Firefox\", \"Chromium\",\n",
        "\n",
        "        # Programming Languages\n",
        "        \"Python\", \"Java\", \"Ruby\", \"PHP\", \"Rust\", \"Go\", \"Kotlin\", \"Swift Open Source\",\n",
        "\n",
        "        # Development Concepts\n",
        "        \"Version Control\", \"Open Source Contribution\", \"Pull Request\",\n",
        "        \"Code Review\", \"Open Source Community\", \"Distributed Development\",\n",
        "\n",
        "        # Licensing Concepts\n",
        "        \"Permissive License\", \"Copyleft License\", \"Commercial-Friendly\",\n",
        "        \"Source Code Availability\", \"Derivative Works\", \"Attribution\",\n",
        "\n",
        "        # Open Source Organizations\n",
        "        \"Apache Software Foundation\", \"Mozilla Foundation\",\n",
        "        \"Linux Foundation\", \"Free Software Foundation\",\n",
        "\n",
        "        # Open Source Principles\n",
        "        \"Transparency\", \"Collaborative\", \"Community-Developed\",\n",
        "        \"Peer Review\", \"Shared Innovation\", \"Public Modification\",\n",
        "\n",
        "        # Open Source Tools\n",
        "        \"Git\", \"Docker\", \"Kubernetes\", \"Jenkins\", \"Ansible\", \"Terraform\",\n",
        "        \"Prometheus\", \"Grafana\", \"MongoDB\", \"PostgreSQL\", \"Redis\",\n",
        "\n",
        "        # Open Source Ecosystems\n",
        "        \"Open Source Cloud\", \"Open Source AI\", \"Open Source Machine Learning\",\n",
        "        \"Open Source Web Frameworks\", \"Open Source Operating Systems\",\n",
        "\n",
        "        # Collaboration Methods\n",
        "        \"Forking\", \"Merging\", \"Code Contribution\", \"Issue Tracking\",\n",
        "        \"Open Development\", \"Collaborative Coding\"\n",
        "    ]\n",
        "\n",
        "    # Create a dictionary with random weights\n",
        "    np.random.seed(25)  # For reproducibility\n",
        "    keyword_weights = {\n",
        "        keyword: np.random.uniform(10, 100)  # Random weight between 10 and 100\n",
        "        for keyword in open_source_keywords\n",
        "    }\n",
        "\n",
        "    # Customize the word cloud\n",
        "    wordcloud = WordCloud(\n",
        "        width=1600,\n",
        "        height=800,\n",
        "        background_color='white',\n",
        "        colormap='twilight_shifted',  # Cool color palette\n",
        "        prefer_horizontal=0.7,  # Allow some vertical words\n",
        "        min_font_size=10,\n",
        "        max_font_size=200\n",
        "    ).generate_from_frequencies(keyword_weights)\n",
        "\n",
        "    # Create the plot\n",
        "    plt.figure(figsize=(20,10), facecolor=None)\n",
        "    plt.imshow(wordcloud)\n",
        "    plt.axis(\"off\")\n",
        "    plt.tight_layout(pad=0)\n",
        "\n",
        "    # Save the word cloud\n",
        "    plt.savefig('open_source_keywords_wordcloud.png', dpi=300, bbox_inches='tight')\n",
        "    plt.close()\n",
        "\n",
        "    return keyword_weights\n",
        "\n",
        "# Run the word cloud generation\n",
        "weights = generate_open_source_wordcloud()\n",
        "\n",
        "# Optional: Print out the weights to see the randomization\n",
        "print(\"Keyword Weights:\")\n",
        "for keyword, weight in sorted(weights.items(), key=lambda x: x[1], reverse=True)[:10]:\n",
        "    print(f\"{keyword}: {weight:.2f}\")\n",
        "\n",
        "print(\"\\nWord cloud has been saved as 'open_source_keywords_wordcloud.png'\")\n"
      ],
      "metadata": {
        "colab": {
          "base_uri": "https://localhost:8080/"
        },
        "id": "VJoZkw3AfxOr",
        "outputId": "b81fe4fa-e8dd-4883-f50c-15d99f2cdd19"
      },
      "execution_count": null,
      "outputs": [
        {
          "output_type": "stream",
          "name": "stdout",
          "text": [
            "Keyword Weights:\n",
            "Apache: 99.78\n",
            "Code Review: 96.23\n",
            "Ansible: 92.23\n",
            "Code Contribution: 92.09\n",
            "Firefox: 91.02\n",
            "Open Source Community: 89.49\n",
            "GPL: 88.31\n",
            "Docker: 85.79\n",
            "Open Source Cloud: 85.32\n",
            "Collaborative Development: 85.27\n",
            "\n",
            "Word cloud has been saved as 'open_source_keywords_wordcloud.png'\n"
          ]
        }
      ]
    },
    {
      "cell_type": "code",
      "source": [
        "# Create a filtured DF using keywords\n",
        "\n",
        "keywords = [\"Customer experience\", \"CEM\", \"CX\"]\n",
        "\n",
        "def contains_keywords(text):\n",
        "  \"\"\"Checks if the text contains any of the keywords.\"\"\"\n",
        "  if isinstance(text, str):\n",
        "    for keyword in keywords:\n",
        "      if keyword in text:\n",
        "        return True\n",
        "  return False\n",
        "\n",
        "\n",
        "df_filtered = df[df[\"Full job description\"].apply(contains_keywords)]"
      ],
      "metadata": {
        "id": "epMhJs5l4lh4"
      },
      "execution_count": null,
      "outputs": []
    },
    {
      "cell_type": "code",
      "source": [
        "df_filtered.shape"
      ],
      "metadata": {
        "colab": {
          "base_uri": "https://localhost:8080/"
        },
        "id": "4-mdf3UB5AWK",
        "outputId": "e108afd5-21a1-4d73-9aca-e913a4d7fd53"
      },
      "execution_count": null,
      "outputs": [
        {
          "output_type": "execute_result",
          "data": {
            "text/plain": [
              "(1418, 30)"
            ]
          },
          "metadata": {},
          "execution_count": 10
        }
      ]
    },
    {
      "cell_type": "code",
      "source": [
        "df = df_filtered"
      ],
      "metadata": {
        "id": "w3M-r1-y5HU3"
      },
      "execution_count": null,
      "outputs": []
    },
    {
      "cell_type": "code",
      "source": [
        "# prompt: Using the 'Date posted' field, please [rint the number of rows for each quarter. Be sure to convert that field to datetime first.\n",
        "#\n",
        "df['Date posted'] = pd.to_datetime(df['Date posted'])\n",
        "df['Quarter'] = df['Date posted'].dt.to_period('Q')\n",
        "df['Quarter'].value_counts()\n"
      ],
      "metadata": {
        "id": "WLo5LDG4n-5h",
        "colab": {
          "base_uri": "https://localhost:8080/",
          "height": 669
        },
        "outputId": "5f283bbe-d065-4af5-f27f-10a6b01499d5"
      },
      "execution_count": null,
      "outputs": [
        {
          "output_type": "stream",
          "name": "stderr",
          "text": [
            "<ipython-input-12-c242364b68a5>:3: SettingWithCopyWarning: \n",
            "A value is trying to be set on a copy of a slice from a DataFrame.\n",
            "Try using .loc[row_indexer,col_indexer] = value instead\n",
            "\n",
            "See the caveats in the documentation: https://pandas.pydata.org/pandas-docs/stable/user_guide/indexing.html#returning-a-view-versus-a-copy\n",
            "  df['Date posted'] = pd.to_datetime(df['Date posted'])\n",
            "<ipython-input-12-c242364b68a5>:4: SettingWithCopyWarning: \n",
            "A value is trying to be set on a copy of a slice from a DataFrame.\n",
            "Try using .loc[row_indexer,col_indexer] = value instead\n",
            "\n",
            "See the caveats in the documentation: https://pandas.pydata.org/pandas-docs/stable/user_guide/indexing.html#returning-a-view-versus-a-copy\n",
            "  df['Quarter'] = df['Date posted'].dt.to_period('Q')\n"
          ]
        },
        {
          "output_type": "execute_result",
          "data": {
            "text/plain": [
              "Quarter\n",
              "2022Q3    187\n",
              "2024Q1    182\n",
              "2023Q3    157\n",
              "2023Q1    145\n",
              "2023Q4    134\n",
              "2024Q3    132\n",
              "2023Q2    126\n",
              "2022Q4    116\n",
              "2024Q2    116\n",
              "2022Q2     99\n",
              "2022Q1     24\n",
              "Freq: Q-DEC, Name: count, dtype: int64"
            ],
            "text/html": [
              "<div>\n",
              "<style scoped>\n",
              "    .dataframe tbody tr th:only-of-type {\n",
              "        vertical-align: middle;\n",
              "    }\n",
              "\n",
              "    .dataframe tbody tr th {\n",
              "        vertical-align: top;\n",
              "    }\n",
              "\n",
              "    .dataframe thead th {\n",
              "        text-align: right;\n",
              "    }\n",
              "</style>\n",
              "<table border=\"1\" class=\"dataframe\">\n",
              "  <thead>\n",
              "    <tr style=\"text-align: right;\">\n",
              "      <th></th>\n",
              "      <th>count</th>\n",
              "    </tr>\n",
              "    <tr>\n",
              "      <th>Quarter</th>\n",
              "      <th></th>\n",
              "    </tr>\n",
              "  </thead>\n",
              "  <tbody>\n",
              "    <tr>\n",
              "      <th>2022Q3</th>\n",
              "      <td>187</td>\n",
              "    </tr>\n",
              "    <tr>\n",
              "      <th>2024Q1</th>\n",
              "      <td>182</td>\n",
              "    </tr>\n",
              "    <tr>\n",
              "      <th>2023Q3</th>\n",
              "      <td>157</td>\n",
              "    </tr>\n",
              "    <tr>\n",
              "      <th>2023Q1</th>\n",
              "      <td>145</td>\n",
              "    </tr>\n",
              "    <tr>\n",
              "      <th>2023Q4</th>\n",
              "      <td>134</td>\n",
              "    </tr>\n",
              "    <tr>\n",
              "      <th>2024Q3</th>\n",
              "      <td>132</td>\n",
              "    </tr>\n",
              "    <tr>\n",
              "      <th>2023Q2</th>\n",
              "      <td>126</td>\n",
              "    </tr>\n",
              "    <tr>\n",
              "      <th>2022Q4</th>\n",
              "      <td>116</td>\n",
              "    </tr>\n",
              "    <tr>\n",
              "      <th>2024Q2</th>\n",
              "      <td>116</td>\n",
              "    </tr>\n",
              "    <tr>\n",
              "      <th>2022Q2</th>\n",
              "      <td>99</td>\n",
              "    </tr>\n",
              "    <tr>\n",
              "      <th>2022Q1</th>\n",
              "      <td>24</td>\n",
              "    </tr>\n",
              "  </tbody>\n",
              "</table>\n",
              "</div><br><label><b>dtype:</b> int64</label>"
            ]
          },
          "metadata": {},
          "execution_count": 12
        }
      ]
    },
    {
      "cell_type": "code",
      "source": [
        "df.Territory.value_counts().nlargest(n=20)"
      ],
      "metadata": {
        "colab": {
          "base_uri": "https://localhost:8080/",
          "height": 743
        },
        "id": "DUj0QP8N0P7F",
        "outputId": "305403c2-a252-4ddf-a21e-94f3822a5991"
      },
      "execution_count": null,
      "outputs": [
        {
          "output_type": "execute_result",
          "data": {
            "text/plain": [
              "Territory\n",
              "US              1044\n",
              "India             94\n",
              "UK                47\n",
              "France            20\n",
              "Spain             20\n",
              "Canada            19\n",
              "Australia         15\n",
              "Japan             12\n",
              "Philippines       12\n",
              "Germany            9\n",
              "Mexico             8\n",
              "South Africa       7\n",
              "Colombia           6\n",
              "Poland             6\n",
              "Costa Rica         6\n",
              "Malaysia           6\n",
              "Singapore          6\n",
              "South Korea        5\n",
              "Brazil             5\n",
              "Chile              5\n",
              "Name: count, dtype: int64"
            ],
            "text/html": [
              "<div>\n",
              "<style scoped>\n",
              "    .dataframe tbody tr th:only-of-type {\n",
              "        vertical-align: middle;\n",
              "    }\n",
              "\n",
              "    .dataframe tbody tr th {\n",
              "        vertical-align: top;\n",
              "    }\n",
              "\n",
              "    .dataframe thead th {\n",
              "        text-align: right;\n",
              "    }\n",
              "</style>\n",
              "<table border=\"1\" class=\"dataframe\">\n",
              "  <thead>\n",
              "    <tr style=\"text-align: right;\">\n",
              "      <th></th>\n",
              "      <th>count</th>\n",
              "    </tr>\n",
              "    <tr>\n",
              "      <th>Territory</th>\n",
              "      <th></th>\n",
              "    </tr>\n",
              "  </thead>\n",
              "  <tbody>\n",
              "    <tr>\n",
              "      <th>US</th>\n",
              "      <td>1044</td>\n",
              "    </tr>\n",
              "    <tr>\n",
              "      <th>India</th>\n",
              "      <td>94</td>\n",
              "    </tr>\n",
              "    <tr>\n",
              "      <th>UK</th>\n",
              "      <td>47</td>\n",
              "    </tr>\n",
              "    <tr>\n",
              "      <th>France</th>\n",
              "      <td>20</td>\n",
              "    </tr>\n",
              "    <tr>\n",
              "      <th>Spain</th>\n",
              "      <td>20</td>\n",
              "    </tr>\n",
              "    <tr>\n",
              "      <th>Canada</th>\n",
              "      <td>19</td>\n",
              "    </tr>\n",
              "    <tr>\n",
              "      <th>Australia</th>\n",
              "      <td>15</td>\n",
              "    </tr>\n",
              "    <tr>\n",
              "      <th>Japan</th>\n",
              "      <td>12</td>\n",
              "    </tr>\n",
              "    <tr>\n",
              "      <th>Philippines</th>\n",
              "      <td>12</td>\n",
              "    </tr>\n",
              "    <tr>\n",
              "      <th>Germany</th>\n",
              "      <td>9</td>\n",
              "    </tr>\n",
              "    <tr>\n",
              "      <th>Mexico</th>\n",
              "      <td>8</td>\n",
              "    </tr>\n",
              "    <tr>\n",
              "      <th>South Africa</th>\n",
              "      <td>7</td>\n",
              "    </tr>\n",
              "    <tr>\n",
              "      <th>Colombia</th>\n",
              "      <td>6</td>\n",
              "    </tr>\n",
              "    <tr>\n",
              "      <th>Poland</th>\n",
              "      <td>6</td>\n",
              "    </tr>\n",
              "    <tr>\n",
              "      <th>Costa Rica</th>\n",
              "      <td>6</td>\n",
              "    </tr>\n",
              "    <tr>\n",
              "      <th>Malaysia</th>\n",
              "      <td>6</td>\n",
              "    </tr>\n",
              "    <tr>\n",
              "      <th>Singapore</th>\n",
              "      <td>6</td>\n",
              "    </tr>\n",
              "    <tr>\n",
              "      <th>South Korea</th>\n",
              "      <td>5</td>\n",
              "    </tr>\n",
              "    <tr>\n",
              "      <th>Brazil</th>\n",
              "      <td>5</td>\n",
              "    </tr>\n",
              "    <tr>\n",
              "      <th>Chile</th>\n",
              "      <td>5</td>\n",
              "    </tr>\n",
              "  </tbody>\n",
              "</table>\n",
              "</div><br><label><b>dtype:</b> int64</label>"
            ]
          },
          "metadata": {},
          "execution_count": 13
        }
      ]
    },
    {
      "cell_type": "code",
      "source": [
        "# Let's run a major dataset dashboard\n",
        "\n",
        "# Function to count job posts per quarter\n",
        "def posts_per_quarter(df):\n",
        "    return df.groupby('Quarter').size().reset_index(name='Job Postings')\n",
        "\n",
        "# Function to find top hiring entities\n",
        "def top_hiring_entities(df, top_n=10):\n",
        "    return df['Hiring entity'].value_counts().head(top_n)\n",
        "\n",
        "# Function to count full-time vs part-time jobs\n",
        "def full_vs_part_time(df):\n",
        "    return df['Full or part time status'].value_counts()\n",
        "\n",
        "# Function to find top cities by number of job postings\n",
        "def top_cities(df, top_n=10):\n",
        "    return df['City'].value_counts().head(top_n)\n",
        "\n",
        "# Function to count posts by experience level\n",
        "def posts_by_experience(df):\n",
        "    return df['Experience level'].value_counts()\n",
        "\n",
        "# Function to calculate average and median salary (using Salary start and end)\n",
        "def salary_statistics(df):\n",
        "    avg_salary_start = df['Salary start'].mean()\n",
        "    med_salary_start = df['Salary start'].median()\n",
        "    avg_salary_end = df['Salary end'].mean()\n",
        "    med_salary_end = df['Salary end'].median()\n",
        "    return {\n",
        "        'Average Salary Start': avg_salary_start,\n",
        "        'Median Salary Start': med_salary_start,\n",
        "        'Average Salary End': avg_salary_end,\n",
        "        'Median Salary End': med_salary_end\n",
        "    }\n",
        "\n",
        "# Function to find top AI technologies mentioned in job posts\n",
        "def top_ai_technologies(df, top_n=10):\n",
        "    return df['AI technologies'].value_counts().head(top_n)\n",
        "\n",
        "# Function to find top AI skills mentioned in job posts\n",
        "def top_ai_skills(df, top_n=10):\n",
        "    return df['AI skills'].value_counts().head(top_n)\n",
        "\n",
        "# Example of how to create the report\n",
        "def create_report(df):\n",
        "    report = {}\n",
        "\n",
        "    report['Posts Per Quarter'] = posts_per_quarter(df)\n",
        "    report['Top Hiring Entities'] = top_hiring_entities(df)\n",
        "    report['Full vs Part Time Jobs'] = full_vs_part_time(df)\n",
        "    report['Top Cities'] = top_cities(df)\n",
        "    report['Posts by Experience Level'] = posts_by_experience(df)\n",
        "    report['Salary Statistics'] = salary_statistics(df)\n",
        "    report['Top AI Technologies'] = top_ai_technologies(df)\n",
        "    report['Top AI Skills'] = top_ai_skills(df)\n",
        "\n",
        "    return report\n",
        "\n",
        "# Usage example:\n",
        "# report = create_report(df)\n",
        "# print(report)\n"
      ],
      "metadata": {
        "id": "b_s_nNooNk3N"
      },
      "execution_count": null,
      "outputs": []
    },
    {
      "cell_type": "code",
      "source": [
        "report = create_report(df)"
      ],
      "metadata": {
        "id": "4Erm4bVWNy3t"
      },
      "execution_count": null,
      "outputs": []
    },
    {
      "cell_type": "code",
      "source": [
        "report"
      ],
      "metadata": {
        "colab": {
          "base_uri": "https://localhost:8080/"
        },
        "id": "9xtSeSDk2KB9",
        "outputId": "e9fb6732-2ddf-4066-9d12-3dbf72c3b85a"
      },
      "execution_count": null,
      "outputs": [
        {
          "output_type": "execute_result",
          "data": {
            "text/plain": [
              "{'Posts Per Quarter':    Quarter  Job Postings\n",
              " 0   2022Q1            24\n",
              " 1   2022Q2            99\n",
              " 2   2022Q3           187\n",
              " 3   2022Q4           116\n",
              " 4   2023Q1           145\n",
              " 5   2023Q2           126\n",
              " 6   2023Q3           157\n",
              " 7   2023Q4           134\n",
              " 8   2024Q1           182\n",
              " 9   2024Q2           116\n",
              " 10  2024Q3           132,\n",
              " 'Top Hiring Entities': Hiring entity\n",
              " Amazon                     71\n",
              " Microsoft                  32\n",
              " Apexon                     30\n",
              " Amazon.com Services LLC    27\n",
              " NICE Systems               22\n",
              " Capgemini                  22\n",
              " MarketBridge               22\n",
              " CVS Health                 14\n",
              " Freshworks                 13\n",
              " Verizon                    12\n",
              " Name: count, dtype: int64,\n",
              " 'Full vs Part Time Jobs': Full or part time status\n",
              " Full-time               1080\n",
              " No data                  231\n",
              " Contract                  50\n",
              " Part-time                  7\n",
              " Full-time; Part-time       5\n",
              " Temporary                  5\n",
              " Internship                 4\n",
              " Full-time; Contract        4\n",
              " Other                      2\n",
              " Full-time; Temporary       2\n",
              " Name: count, dtype: int64,\n",
              " 'Top Cities': City\n",
              " No data        162\n",
              " Washington      62\n",
              " Seattle         60\n",
              " Atlanta         48\n",
              " New York        47\n",
              " Bengaluru       41\n",
              " London          35\n",
              " Chicago         30\n",
              " Sandy           23\n",
              " Santa Clara     21\n",
              " Name: count, dtype: int64,\n",
              " 'Posts by Experience Level': Experience level\n",
              " No data             572\n",
              " Mid-Senior level    264\n",
              " Entry level         176\n",
              " Not Applicable      131\n",
              " Associate            72\n",
              " Senior Level         47\n",
              " Mid Level            26\n",
              " Internship           12\n",
              " 5                    10\n",
              " 3                     9\n",
              " Director              8\n",
              " ;                     7\n",
              " 2                     6\n",
              " 4                     5\n",
              " 1                     4\n",
              " 6                     3\n",
              " Executive             2\n",
              " 10                    2\n",
              " 11                    1\n",
              " 7                     1\n",
              " 8                     1\n",
              " 7; 8                  1\n",
              " ; ;                   1\n",
              " Name: count, dtype: int64,\n",
              " 'Salary Statistics': {'Average Salary Start': 88208.38580931263,\n",
              "  'Median Salary Start': 88948.5,\n",
              "  'Average Salary End': 132046.96089385476,\n",
              "  'Median Salary End': 128185.0},\n",
              " 'Top AI Technologies': AI technologies\n",
              " ['AZURE DATA FACTORY', 'DATA BRICKS', 'PRODUCTSDEVELOP', 'AZURE RELIABILITY', 'DATA ANALYTICS', 'MICROSOFT FABRIC', 'MACHINE LEARNINGSOFTWARE ENGINEERING IC3][C', '\"QUALIFICATIONSBACHELORS DEGREE IN COMPUTER SCIENCE\"', 'STREAM ANALYTICS', 'AZURE]', 'JAVASCRIPT', '[MICROSOFT', 'POWER BI']                                                                                                                                                                                                                                                                                                                                               3\n",
              "                                                                                                                                                                                                                                                                                                                                                                                                                                                                                                                                                                                                                                                3\n",
              " Automation, Software, Analytics, Communication Skills, Business, Training, .Net, Cloud, Artificial Intelligence, Optimization, Microservices, Development, Testing, Design, Telecommunications, Telephony, Agile Development, Ci/Cd, Computer Science, Product Management, Telecommunication, Software Development, Unit Testing, Grpc, Design Patterns                                                                                                                                                                                                                                                                                        3\n",
              " Team Player\\\\Ndesire, Aws, Analytics, Computer Science, C, Nasdaqkubernetes, Open Cloud Foundation, C#, Cx, Business Information Systems, Jira, Software Engineer, Automation And Artificial Intelligence, Nice Cxoneâ„¢, Java, Technical Or Team, Sql, Nice, Kafka, Agile, Workforce Optimization, Dynamodb, Omnichannel Routing, Dynamo Db                                                                                                                                                                                                                                                                                                   3\n",
              " ['AZURE PURVIEW', 'C', 'AI & ML - CONCEPTUALIZE &', 'POWER BI', 'GCP', 'DATA ENGINEERING', 'ML', 'TEAM MANAGEMENT RESPONSIBLE', 'INFORMATICA', 'ATTUNITY', 'TECHNOLOGY EVALUATION & SELECTION EXECUTE PROOF', 'AZURE MACHINE LEARNING', 'PYTHON', 'CHATGPT', 'COLLABORATION & COMMUNICATION COLLABORATE', 'SPOTFIRE', 'EQUALUM', 'POVS', 'CXO', 'ML DATA SOLUTION ARCHITECTURE ABILITY', 'DATA ENGINEERING HANDS', 'OPEN AI', 'AZURE DATA FACTORY', 'CONTINUOUS LEARNING - STAYING', 'AI', 'SPARK', 'ORGANIZATIONSSTAKEHOLDER MANAGEMENT & COMMUNICATION', 'MTECH', 'GDPRR', 'HVR', 'AI PLATFORMS & PRODUCTS', 'DATAIKU', 'HIPAA', 'AZURE']    3\n",
              " Excel, Software Development Engineer, Ca.--You, Qualificationsbachelor, Computer Science, F3 Post Order, Amazon, Company - Amazon.Com Servicesc                                                                                                                                                                                                                                                                                                                                                                                                                                                                                                2\n",
              " Data Scientist, Cx, Business Intelligence, Mathematics, Statistics, Engineering,, Social, Data Extraction, Monitoring, Data Visualization, Security, Data Type, R, Documentation, Artificial Intelligence, Machine Learning, Deep Learning, Collaboration, Algorithms, Relational Database, Support, Design, Analytics, Data Quality, Testing, Business, Variables, Simulation                                                                                                                                                                                                                                                                 2\n",
              " Lead Data Scientist And Project, Internal Collaboration: Participate, R, Spark, Go, Github, Mta, Sales, Sparkgit, Marketing, Python, Marketbridge, Data-centric Approach, Fortune 500, Data Scientist, Project And Client Management: Communicate, Cx, The Data Scientist, Rmarkdown                                                                                                                                                                                                                                                                                                                                                           2\n",
              " Programming, Network Security, Metadata, Training, Data Extraction, Security, Labeling, Languages, Big Data Systems, Support, Data Analytics, Analysis, Data Acquisition, Databases                                                                                                                                                                                                                                                                                                                                                                                                                                                            2\n",
              " Analytics & Strategic Services, Oracle, Opportunityexplore, Senior Data, Analytics Acumen, Retirement Planning, Washington Pay Range:Oracle, Medical, Life Insurance, Colorado Pay Range, Oracle Cx Marketing                                                                                                                                                                                                                                                                                                                                                                                                                                  2\n",
              " Name: count, dtype: int64,\n",
              " 'Top AI Skills': AI skills\n",
              " Development, Testing, Analytics, Microservices, Design, Telecommunications, Training, Artificial Intelligence, Agile Development, Telephony, Optimization, .Net, Software, Automation, Cloud, Communication Skills, Business, Ci/Cd, Computer Science, Product Management, Telecommunication, Software Development, Unit Testing, Grpc, Design Patterns                                                                                                                                                                 6\n",
              " Programming, Risk, Development, Testing, Software, Functional Programming, Agile Development, Coding, Cloud, Analysis, Design, Software Engineering, Machine Learning, Engineering                                                                                                                                                                                                                                                                                                                                      5\n",
              " Data Pipelines, Automation, Ambiguity, Data Visualization, Development, Scripting Language, Business, Software, Data Warehousing, Analysis, Support, Design, Interpersonal Skills, Business Acumen, Data Extraction, Data Mining                                                                                                                                                                                                                                                                                        5\n",
              " Support, Analysis, Computer Science, Insight, Play, Quantitative Analysis, Development, Modeling, Model Development, Machine Learning, Coding, Analytics, Business, Marketing, Data Science, Optimization, Economics, Math, Marketing Mix Modeling, Analysis Skills, Market Research, Organizational Skills, Regression Analysis, Communication Skills                                                                                                                                                                  3\n",
              " ['DEVELOPMENT', 'CODING', 'BUSINESS', 'LANGUAGES', 'DESIGN', 'SOFTWARE', 'MODELING', 'COMPUTER SCIENCE', 'ENGINEERING', 'SUPPORT', 'CLOUD', 'DATA PIPELINES', 'SOFTWARE ENGINEERING']                                                                                                                                                                                                                                                                                                                                   3\n",
              " Stars                                                                                                                                                                                                                                                                                                                                                                                                                                                                                                                   3\n",
              "                                                                                                                                                                                                                                                                                                                                                                                                                                                                                                                         3\n",
              " ['DATA QUALITY', 'DATA MANAGEMENT', 'DATA ENGINEERING', 'LANGUAGES', 'VISUALIZATION', 'CLOUD', 'MODEL DEVELOPMENT', 'DATA GOVERNANCE', 'DEVELOPMENT', 'DATA ANALYSIS', 'DESIGNING', 'PROGRAMMING', 'AI', 'DATABASE', 'MACHINE LEARNING', 'CONTINUOUS INTEGRATION', 'DATA AND ANALYTICS', 'ENGINEERING', 'TESTING', 'DESIGN', 'BIG DATA', 'FEATURE STORES', 'BUSINESS', 'ANALYTICS', 'OPEN SOURCE', 'STATISTICAL ANALYSIS', 'STAKEHOLDER MANAGEMENT', 'PROJECT MANAGEMENT', 'UNITY', 'DATA WAREHOUSES', 'DATA LAKES']    3\n",
              " Development, Analysis, Artificial Intelligence, Agile Development, Angular, Cloud, Software, Asp.Net, Testing, Languages, Training, Optimization, Framework, .Net, Automation, Communication Skills, Business, Analytics, Design, Computer Science, Visual Studio, Test Automation, Microsoft Sql Server, Product Management, Software Development, Unit Testing                                                                                                                                                        3\n",
              " No Data                                                                                                                                                                                                                                                                                                                                                                                                                                                                                                                 3\n",
              " Name: count, dtype: int64}"
            ]
          },
          "metadata": {},
          "execution_count": 16
        }
      ]
    },
    {
      "cell_type": "code",
      "source": [
        "# prompt: write df to disk as a pickle file\n",
        "\n",
        "df.to_pickle('/content/gdrive/MyDrive/Colab Notebooks/Datasets/ai_skills_tracker/ai_skills_3q24/ai_skills_cx_28nov24.pkl')\n"
      ],
      "metadata": {
        "id": "r_v3Ln8Qxxyd"
      },
      "execution_count": null,
      "outputs": []
    },
    {
      "cell_type": "code",
      "source": [
        "# prompt: Save df to a parquet file\n",
        "\n",
        "import pyarrow as pa\n",
        "import pyarrow.parquet as pq\n",
        "\n",
        "# Assuming 'df' is your DataFrame\n",
        "# Replace '/path/to/your/file.parquet' with your desired file path\n",
        "df.to_parquet('/content/gdrive/MyDrive/Colab Notebooks/Datasets/ai_skills_tracker/ai_skills_3q24/ai_skills_cx_28nov24.parquet', engine='pyarrow')"
      ],
      "metadata": {
        "id": "tlrUV_P1Wkec"
      },
      "execution_count": null,
      "outputs": []
    }
  ]
}